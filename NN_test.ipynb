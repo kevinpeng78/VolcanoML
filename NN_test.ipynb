{
 "cells": [
  {
   "cell_type": "code",
   "execution_count": 1,
   "metadata": {},
   "outputs": [
    {
     "data": {
      "text/html": [
       "<div>\n",
       "<style scoped>\n",
       "    .dataframe tbody tr th:only-of-type {\n",
       "        vertical-align: middle;\n",
       "    }\n",
       "\n",
       "    .dataframe tbody tr th {\n",
       "        vertical-align: top;\n",
       "    }\n",
       "\n",
       "    .dataframe thead th {\n",
       "        text-align: right;\n",
       "    }\n",
       "</style>\n",
       "<table border=\"1\" class=\"dataframe\">\n",
       "  <thead>\n",
       "    <tr style=\"text-align: right;\">\n",
       "      <th></th>\n",
       "      <th>O2_continum</th>\n",
       "      <th>weak_CO2_continum</th>\n",
       "      <th>strong_CO2_continum</th>\n",
       "      <th>OCO_zenith_angle</th>\n",
       "      <th>O2_mid_1</th>\n",
       "      <th>O2_mid_2</th>\n",
       "      <th>O2_mid_3</th>\n",
       "      <th>weak_CO2_mid_1</th>\n",
       "      <th>weak_CO2_mid_2</th>\n",
       "      <th>weak_CO2_mid_3</th>\n",
       "      <th>strong_CO2_mid_1</th>\n",
       "      <th>strong_CO2_mid_2</th>\n",
       "      <th>strong_CO2_mid_3</th>\n",
       "    </tr>\n",
       "  </thead>\n",
       "  <tbody>\n",
       "    <tr>\n",
       "      <th>0</th>\n",
       "      <td>-0.927092</td>\n",
       "      <td>-0.961946</td>\n",
       "      <td>-0.740394</td>\n",
       "      <td>-0.206053</td>\n",
       "      <td>-0.517347</td>\n",
       "      <td>-0.502627</td>\n",
       "      <td>-0.194233</td>\n",
       "      <td>0.337460</td>\n",
       "      <td>0.466085</td>\n",
       "      <td>0.393855</td>\n",
       "      <td>-0.301505</td>\n",
       "      <td>-0.278316</td>\n",
       "      <td>-0.482460</td>\n",
       "    </tr>\n",
       "    <tr>\n",
       "      <th>1</th>\n",
       "      <td>1.803690</td>\n",
       "      <td>0.206755</td>\n",
       "      <td>-0.390904</td>\n",
       "      <td>1.154152</td>\n",
       "      <td>2.281867</td>\n",
       "      <td>1.915422</td>\n",
       "      <td>1.103370</td>\n",
       "      <td>0.900527</td>\n",
       "      <td>0.251837</td>\n",
       "      <td>0.265609</td>\n",
       "      <td>2.024870</td>\n",
       "      <td>1.271855</td>\n",
       "      <td>1.100929</td>\n",
       "    </tr>\n",
       "    <tr>\n",
       "      <th>2</th>\n",
       "      <td>-1.076425</td>\n",
       "      <td>-1.275782</td>\n",
       "      <td>-1.108491</td>\n",
       "      <td>1.149543</td>\n",
       "      <td>0.225785</td>\n",
       "      <td>-0.018460</td>\n",
       "      <td>-0.697673</td>\n",
       "      <td>-1.921498</td>\n",
       "      <td>-2.102107</td>\n",
       "      <td>-2.285544</td>\n",
       "      <td>-0.313214</td>\n",
       "      <td>-0.070980</td>\n",
       "      <td>-0.015118</td>\n",
       "    </tr>\n",
       "    <tr>\n",
       "      <th>3</th>\n",
       "      <td>-0.598702</td>\n",
       "      <td>-0.027013</td>\n",
       "      <td>0.555344</td>\n",
       "      <td>1.133732</td>\n",
       "      <td>0.694065</td>\n",
       "      <td>0.683971</td>\n",
       "      <td>-0.585624</td>\n",
       "      <td>0.754913</td>\n",
       "      <td>0.705481</td>\n",
       "      <td>0.543780</td>\n",
       "      <td>1.105941</td>\n",
       "      <td>1.640503</td>\n",
       "      <td>1.801141</td>\n",
       "    </tr>\n",
       "    <tr>\n",
       "      <th>4</th>\n",
       "      <td>-0.442151</td>\n",
       "      <td>-0.076573</td>\n",
       "      <td>-0.129948</td>\n",
       "      <td>-0.136516</td>\n",
       "      <td>-0.374291</td>\n",
       "      <td>0.074963</td>\n",
       "      <td>0.559241</td>\n",
       "      <td>0.249454</td>\n",
       "      <td>0.344225</td>\n",
       "      <td>0.299853</td>\n",
       "      <td>-0.333098</td>\n",
       "      <td>-0.015940</td>\n",
       "      <td>0.174166</td>\n",
       "    </tr>\n",
       "    <tr>\n",
       "      <th>...</th>\n",
       "      <td>...</td>\n",
       "      <td>...</td>\n",
       "      <td>...</td>\n",
       "      <td>...</td>\n",
       "      <td>...</td>\n",
       "      <td>...</td>\n",
       "      <td>...</td>\n",
       "      <td>...</td>\n",
       "      <td>...</td>\n",
       "      <td>...</td>\n",
       "      <td>...</td>\n",
       "      <td>...</td>\n",
       "      <td>...</td>\n",
       "    </tr>\n",
       "    <tr>\n",
       "      <th>30183</th>\n",
       "      <td>-1.048658</td>\n",
       "      <td>-1.223331</td>\n",
       "      <td>-1.038346</td>\n",
       "      <td>-0.885725</td>\n",
       "      <td>-0.459118</td>\n",
       "      <td>-0.501835</td>\n",
       "      <td>-0.727626</td>\n",
       "      <td>-0.550503</td>\n",
       "      <td>-0.112805</td>\n",
       "      <td>0.052416</td>\n",
       "      <td>-0.375942</td>\n",
       "      <td>-0.063886</td>\n",
       "      <td>0.113208</td>\n",
       "    </tr>\n",
       "    <tr>\n",
       "      <th>30184</th>\n",
       "      <td>-0.822752</td>\n",
       "      <td>-1.138033</td>\n",
       "      <td>-1.021494</td>\n",
       "      <td>-1.387097</td>\n",
       "      <td>-1.982553</td>\n",
       "      <td>-2.843658</td>\n",
       "      <td>0.154470</td>\n",
       "      <td>-0.836472</td>\n",
       "      <td>-0.179857</td>\n",
       "      <td>0.039522</td>\n",
       "      <td>-1.690475</td>\n",
       "      <td>-1.901580</td>\n",
       "      <td>-1.958222</td>\n",
       "    </tr>\n",
       "    <tr>\n",
       "      <th>30185</th>\n",
       "      <td>-0.199972</td>\n",
       "      <td>0.070295</td>\n",
       "      <td>-0.036367</td>\n",
       "      <td>-1.966910</td>\n",
       "      <td>0.833388</td>\n",
       "      <td>0.622240</td>\n",
       "      <td>0.266923</td>\n",
       "      <td>0.694719</td>\n",
       "      <td>0.637074</td>\n",
       "      <td>0.556464</td>\n",
       "      <td>0.484134</td>\n",
       "      <td>0.606840</td>\n",
       "      <td>0.445389</td>\n",
       "    </tr>\n",
       "    <tr>\n",
       "      <th>30186</th>\n",
       "      <td>-0.211763</td>\n",
       "      <td>0.089840</td>\n",
       "      <td>0.107017</td>\n",
       "      <td>0.526820</td>\n",
       "      <td>0.129508</td>\n",
       "      <td>-0.106757</td>\n",
       "      <td>-1.157741</td>\n",
       "      <td>0.726709</td>\n",
       "      <td>0.733629</td>\n",
       "      <td>0.621136</td>\n",
       "      <td>0.748771</td>\n",
       "      <td>0.973162</td>\n",
       "      <td>0.659369</td>\n",
       "    </tr>\n",
       "    <tr>\n",
       "      <th>30187</th>\n",
       "      <td>-1.113345</td>\n",
       "      <td>-1.332383</td>\n",
       "      <td>-1.171512</td>\n",
       "      <td>0.251636</td>\n",
       "      <td>0.544939</td>\n",
       "      <td>-0.107832</td>\n",
       "      <td>-1.483849</td>\n",
       "      <td>-3.464904</td>\n",
       "      <td>-3.314851</td>\n",
       "      <td>-2.760329</td>\n",
       "      <td>-1.813613</td>\n",
       "      <td>-3.128751</td>\n",
       "      <td>-4.384141</td>\n",
       "    </tr>\n",
       "  </tbody>\n",
       "</table>\n",
       "<p>30188 rows × 13 columns</p>\n",
       "</div>"
      ],
      "text/plain": [
       "       O2_continum  weak_CO2_continum  strong_CO2_continum  OCO_zenith_angle  \\\n",
       "0        -0.927092          -0.961946            -0.740394         -0.206053   \n",
       "1         1.803690           0.206755            -0.390904          1.154152   \n",
       "2        -1.076425          -1.275782            -1.108491          1.149543   \n",
       "3        -0.598702          -0.027013             0.555344          1.133732   \n",
       "4        -0.442151          -0.076573            -0.129948         -0.136516   \n",
       "...            ...                ...                  ...               ...   \n",
       "30183    -1.048658          -1.223331            -1.038346         -0.885725   \n",
       "30184    -0.822752          -1.138033            -1.021494         -1.387097   \n",
       "30185    -0.199972           0.070295            -0.036367         -1.966910   \n",
       "30186    -0.211763           0.089840             0.107017          0.526820   \n",
       "30187    -1.113345          -1.332383            -1.171512          0.251636   \n",
       "\n",
       "       O2_mid_1  O2_mid_2  O2_mid_3  weak_CO2_mid_1  weak_CO2_mid_2  \\\n",
       "0     -0.517347 -0.502627 -0.194233        0.337460        0.466085   \n",
       "1      2.281867  1.915422  1.103370        0.900527        0.251837   \n",
       "2      0.225785 -0.018460 -0.697673       -1.921498       -2.102107   \n",
       "3      0.694065  0.683971 -0.585624        0.754913        0.705481   \n",
       "4     -0.374291  0.074963  0.559241        0.249454        0.344225   \n",
       "...         ...       ...       ...             ...             ...   \n",
       "30183 -0.459118 -0.501835 -0.727626       -0.550503       -0.112805   \n",
       "30184 -1.982553 -2.843658  0.154470       -0.836472       -0.179857   \n",
       "30185  0.833388  0.622240  0.266923        0.694719        0.637074   \n",
       "30186  0.129508 -0.106757 -1.157741        0.726709        0.733629   \n",
       "30187  0.544939 -0.107832 -1.483849       -3.464904       -3.314851   \n",
       "\n",
       "       weak_CO2_mid_3  strong_CO2_mid_1  strong_CO2_mid_2  strong_CO2_mid_3  \n",
       "0            0.393855         -0.301505         -0.278316         -0.482460  \n",
       "1            0.265609          2.024870          1.271855          1.100929  \n",
       "2           -2.285544         -0.313214         -0.070980         -0.015118  \n",
       "3            0.543780          1.105941          1.640503          1.801141  \n",
       "4            0.299853         -0.333098         -0.015940          0.174166  \n",
       "...               ...               ...               ...               ...  \n",
       "30183        0.052416         -0.375942         -0.063886          0.113208  \n",
       "30184        0.039522         -1.690475         -1.901580         -1.958222  \n",
       "30185        0.556464          0.484134          0.606840          0.445389  \n",
       "30186        0.621136          0.748771          0.973162          0.659369  \n",
       "30187       -2.760329         -1.813613         -3.128751         -4.384141  \n",
       "\n",
       "[30188 rows x 13 columns]"
      ]
     },
     "execution_count": 1,
     "metadata": {},
     "output_type": "execute_result"
    }
   ],
   "source": [
    "from sklearn.preprocessing import StandardScaler\n",
    "from sklearn.model_selection import train_test_split\n",
    "import pandas as pd\n",
    "import numpy as np\n",
    "import random\n",
    "\n",
    "random.seed(42)\n",
    "\n",
    "big_dataset = pd.read_csv(\"feature_with_ALH_with_lat_lon.csv\", index_col=0)\n",
    "\n",
    "train_dataset, test_dataset = train_test_split(big_dataset, test_size=0.2, random_state=42)\n",
    "\n",
    "X_train = train_dataset.drop(['ALH_CALIPSO', 'MODIS_AOD', 'COD_CALIPSO', 'AOD_OCO', 'AOD_CALIPSO', 'OCO_latitude', 'OCO_longitude', 'CALIPSO_latitude', 'CALIPSO_longitude', 'MODIS_latitude', 'MODIS_longitude'], axis=1)\n",
    "X_test = test_dataset.drop(['ALH_CALIPSO', 'MODIS_AOD', 'COD_CALIPSO', 'AOD_OCO', 'AOD_CALIPSO', 'OCO_latitude', 'OCO_longitude', 'CALIPSO_latitude', 'CALIPSO_longitude', 'MODIS_latitude', 'MODIS_longitude'], axis=1)\n",
    "\n",
    "y_train_calipso = (train_dataset[\"AOD_CALIPSO\"])\n",
    "y_test_calipso = (test_dataset[\"AOD_CALIPSO\"])\n",
    "\n",
    "sc = StandardScaler()\n",
    "X_train = pd.DataFrame(sc.fit_transform(X_train), columns = X_train.columns)\n",
    "X_test = pd.DataFrame(sc.transform(X_test), columns = X_test.columns)\n",
    "\n",
    "X_train"
   ]
  },
  {
   "cell_type": "code",
   "execution_count": null,
   "metadata": {},
   "outputs": [
    {
     "name": "stderr",
     "output_type": "stream",
     "text": [
      "2024-12-01 16:16:36.260657: I external/local_xla/xla/tsl/cuda/cudart_stub.cc:32] Could not find cuda drivers on your machine, GPU will not be used.\n",
      "2024-12-01 16:16:36.345560: I external/local_xla/xla/tsl/cuda/cudart_stub.cc:32] Could not find cuda drivers on your machine, GPU will not be used.\n",
      "2024-12-01 16:16:36.429694: E external/local_xla/xla/stream_executor/cuda/cuda_fft.cc:477] Unable to register cuFFT factory: Attempting to register factory for plugin cuFFT when one has already been registered\n",
      "WARNING: All log messages before absl::InitializeLog() is called are written to STDERR\n",
      "E0000 00:00:1733098596.516219 2617365 cuda_dnn.cc:8310] Unable to register cuDNN factory: Attempting to register factory for plugin cuDNN when one has already been registered\n",
      "E0000 00:00:1733098596.538612 2617365 cuda_blas.cc:1418] Unable to register cuBLAS factory: Attempting to register factory for plugin cuBLAS when one has already been registered\n",
      "2024-12-01 16:16:36.712755: I tensorflow/core/platform/cpu_feature_guard.cc:210] This TensorFlow binary is optimized to use available CPU instructions in performance-critical operations.\n",
      "To enable the following instructions: AVX2 FMA, in other operations, rebuild TensorFlow with the appropriate compiler flags.\n",
      "2024-12-01 16:16:40.150971: E external/local_xla/xla/stream_executor/cuda/cuda_driver.cc:152] failed call to cuInit: INTERNAL: CUDA error: Failed call to cuInit: UNKNOWN ERROR (303)\n"
     ]
    },
    {
     "data": {
      "text/html": [
       "<pre style=\"white-space:pre;overflow-x:auto;line-height:normal;font-family:Menlo,'DejaVu Sans Mono',consolas,'Courier New',monospace\"><span style=\"font-weight: bold\">Model: \"sequential\"</span>\n",
       "</pre>\n"
      ],
      "text/plain": [
       "\u001b[1mModel: \"sequential\"\u001b[0m\n"
      ]
     },
     "metadata": {},
     "output_type": "display_data"
    },
    {
     "data": {
      "text/html": [
       "<pre style=\"white-space:pre;overflow-x:auto;line-height:normal;font-family:Menlo,'DejaVu Sans Mono',consolas,'Courier New',monospace\">┏━━━━━━━━━━━━━━━━━━━━━━━━━━━━━━━━━┳━━━━━━━━━━━━━━━━━━━━━━━━┳━━━━━━━━━━━━━━━┓\n",
       "┃<span style=\"font-weight: bold\"> Layer (type)                    </span>┃<span style=\"font-weight: bold\"> Output Shape           </span>┃<span style=\"font-weight: bold\">       Param # </span>┃\n",
       "┡━━━━━━━━━━━━━━━━━━━━━━━━━━━━━━━━━╇━━━━━━━━━━━━━━━━━━━━━━━━╇━━━━━━━━━━━━━━━┩\n",
       "│ dense (<span style=\"color: #0087ff; text-decoration-color: #0087ff\">Dense</span>)                   │ (<span style=\"color: #00d7ff; text-decoration-color: #00d7ff\">None</span>, <span style=\"color: #00af00; text-decoration-color: #00af00\">16</span>)             │           <span style=\"color: #00af00; text-decoration-color: #00af00\">224</span> │\n",
       "├─────────────────────────────────┼────────────────────────┼───────────────┤\n",
       "│ dense_1 (<span style=\"color: #0087ff; text-decoration-color: #0087ff\">Dense</span>)                 │ (<span style=\"color: #00d7ff; text-decoration-color: #00d7ff\">None</span>, <span style=\"color: #00af00; text-decoration-color: #00af00\">8</span>)              │           <span style=\"color: #00af00; text-decoration-color: #00af00\">136</span> │\n",
       "├─────────────────────────────────┼────────────────────────┼───────────────┤\n",
       "│ dense_2 (<span style=\"color: #0087ff; text-decoration-color: #0087ff\">Dense</span>)                 │ (<span style=\"color: #00d7ff; text-decoration-color: #00d7ff\">None</span>, <span style=\"color: #00af00; text-decoration-color: #00af00\">4</span>)              │            <span style=\"color: #00af00; text-decoration-color: #00af00\">36</span> │\n",
       "├─────────────────────────────────┼────────────────────────┼───────────────┤\n",
       "│ dense_3 (<span style=\"color: #0087ff; text-decoration-color: #0087ff\">Dense</span>)                 │ (<span style=\"color: #00d7ff; text-decoration-color: #00d7ff\">None</span>, <span style=\"color: #00af00; text-decoration-color: #00af00\">1</span>)              │             <span style=\"color: #00af00; text-decoration-color: #00af00\">5</span> │\n",
       "└─────────────────────────────────┴────────────────────────┴───────────────┘\n",
       "</pre>\n"
      ],
      "text/plain": [
       "┏━━━━━━━━━━━━━━━━━━━━━━━━━━━━━━━━━┳━━━━━━━━━━━━━━━━━━━━━━━━┳━━━━━━━━━━━━━━━┓\n",
       "┃\u001b[1m \u001b[0m\u001b[1mLayer (type)                   \u001b[0m\u001b[1m \u001b[0m┃\u001b[1m \u001b[0m\u001b[1mOutput Shape          \u001b[0m\u001b[1m \u001b[0m┃\u001b[1m \u001b[0m\u001b[1m      Param #\u001b[0m\u001b[1m \u001b[0m┃\n",
       "┡━━━━━━━━━━━━━━━━━━━━━━━━━━━━━━━━━╇━━━━━━━━━━━━━━━━━━━━━━━━╇━━━━━━━━━━━━━━━┩\n",
       "│ dense (\u001b[38;5;33mDense\u001b[0m)                   │ (\u001b[38;5;45mNone\u001b[0m, \u001b[38;5;34m16\u001b[0m)             │           \u001b[38;5;34m224\u001b[0m │\n",
       "├─────────────────────────────────┼────────────────────────┼───────────────┤\n",
       "│ dense_1 (\u001b[38;5;33mDense\u001b[0m)                 │ (\u001b[38;5;45mNone\u001b[0m, \u001b[38;5;34m8\u001b[0m)              │           \u001b[38;5;34m136\u001b[0m │\n",
       "├─────────────────────────────────┼────────────────────────┼───────────────┤\n",
       "│ dense_2 (\u001b[38;5;33mDense\u001b[0m)                 │ (\u001b[38;5;45mNone\u001b[0m, \u001b[38;5;34m4\u001b[0m)              │            \u001b[38;5;34m36\u001b[0m │\n",
       "├─────────────────────────────────┼────────────────────────┼───────────────┤\n",
       "│ dense_3 (\u001b[38;5;33mDense\u001b[0m)                 │ (\u001b[38;5;45mNone\u001b[0m, \u001b[38;5;34m1\u001b[0m)              │             \u001b[38;5;34m5\u001b[0m │\n",
       "└─────────────────────────────────┴────────────────────────┴───────────────┘\n"
      ]
     },
     "metadata": {},
     "output_type": "display_data"
    },
    {
     "data": {
      "text/html": [
       "<pre style=\"white-space:pre;overflow-x:auto;line-height:normal;font-family:Menlo,'DejaVu Sans Mono',consolas,'Courier New',monospace\"><span style=\"font-weight: bold\"> Total params: </span><span style=\"color: #00af00; text-decoration-color: #00af00\">401</span> (1.57 KB)\n",
       "</pre>\n"
      ],
      "text/plain": [
       "\u001b[1m Total params: \u001b[0m\u001b[38;5;34m401\u001b[0m (1.57 KB)\n"
      ]
     },
     "metadata": {},
     "output_type": "display_data"
    },
    {
     "data": {
      "text/html": [
       "<pre style=\"white-space:pre;overflow-x:auto;line-height:normal;font-family:Menlo,'DejaVu Sans Mono',consolas,'Courier New',monospace\"><span style=\"font-weight: bold\"> Trainable params: </span><span style=\"color: #00af00; text-decoration-color: #00af00\">401</span> (1.57 KB)\n",
       "</pre>\n"
      ],
      "text/plain": [
       "\u001b[1m Trainable params: \u001b[0m\u001b[38;5;34m401\u001b[0m (1.57 KB)\n"
      ]
     },
     "metadata": {},
     "output_type": "display_data"
    },
    {
     "data": {
      "text/html": [
       "<pre style=\"white-space:pre;overflow-x:auto;line-height:normal;font-family:Menlo,'DejaVu Sans Mono',consolas,'Courier New',monospace\"><span style=\"font-weight: bold\"> Non-trainable params: </span><span style=\"color: #00af00; text-decoration-color: #00af00\">0</span> (0.00 B)\n",
       "</pre>\n"
      ],
      "text/plain": [
       "\u001b[1m Non-trainable params: \u001b[0m\u001b[38;5;34m0\u001b[0m (0.00 B)\n"
      ]
     },
     "metadata": {},
     "output_type": "display_data"
    }
   ],
   "source": [
    "import tensorflow as tf\n",
    "\n",
    "model = tf.keras.Sequential()\n",
    "model.add(tf.keras.layers.Input(shape=(13,)))\n",
    "model.add(tf.keras.layers.Dense(units=16, activation='relu'))\n",
    "model.add(tf.keras.layers.Dense(units=8, activation='relu'))\n",
    "model.add(tf.keras.layers.Dense(units=4, activation='relu'))\n",
    "model.add(tf.keras.layers.Dense(units=1))\n",
    "\n",
    "model.compile(optimizer='adam', loss='mse')\n",
    "\n",
    "model.summary()\n",
    "\n",
    "history = model.fit(X_train, y_train_calipso, validation_split=.1,  epochs=1000)"
   ]
  },
  {
   "cell_type": "code",
   "execution_count": 75,
   "metadata": {},
   "outputs": [],
   "source": [
    "model.save(\"NN.keras\")"
   ]
  },
  {
   "cell_type": "code",
   "execution_count": 3,
   "metadata": {},
   "outputs": [
    {
     "ename": "NameError",
     "evalue": "name 'history' is not defined",
     "output_type": "error",
     "traceback": [
      "\u001b[0;31m---------------------------------------------------------------------------\u001b[0m",
      "\u001b[0;31mNameError\u001b[0m                                 Traceback (most recent call last)",
      "Cell \u001b[0;32mIn[3], line 2\u001b[0m\n\u001b[1;32m      1\u001b[0m \u001b[38;5;28;01mfrom\u001b[39;00m \u001b[38;5;21;01mmatplotlib\u001b[39;00m \u001b[38;5;28;01mimport\u001b[39;00m pyplot \u001b[38;5;28;01mas\u001b[39;00m plt\n\u001b[0;32m----> 2\u001b[0m plt\u001b[38;5;241m.\u001b[39mplot(\u001b[43mhistory\u001b[49m\u001b[38;5;241m.\u001b[39mhistory[\u001b[38;5;124m'\u001b[39m\u001b[38;5;124mloss\u001b[39m\u001b[38;5;124m'\u001b[39m])\n\u001b[1;32m      3\u001b[0m plt\u001b[38;5;241m.\u001b[39mplot(history\u001b[38;5;241m.\u001b[39mhistory[\u001b[38;5;124m'\u001b[39m\u001b[38;5;124mval_loss\u001b[39m\u001b[38;5;124m'\u001b[39m])\n\u001b[1;32m      4\u001b[0m plt\u001b[38;5;241m.\u001b[39mtitle(\u001b[38;5;124m'\u001b[39m\u001b[38;5;124mmodel loss\u001b[39m\u001b[38;5;124m'\u001b[39m)\n",
      "\u001b[0;31mNameError\u001b[0m: name 'history' is not defined"
     ]
    }
   ],
   "source": [
    "from matplotlib import pyplot as plt\n",
    "plt.plot(history.history['loss'])\n",
    "plt.plot(history.history['val_loss'])\n",
    "plt.title('model loss')\n",
    "plt.ylabel('loss')\n",
    "plt.xlabel('epoch')\n",
    "plt.legend(['train', 'val'], loc='upper left')\n",
    "plt.show()\n"
   ]
  },
  {
   "cell_type": "code",
   "execution_count": 4,
   "metadata": {},
   "outputs": [
    {
     "name": "stdout",
     "output_type": "stream",
     "text": [
      "\u001b[1m236/236\u001b[0m \u001b[32m━━━━━━━━━━━━━━━━━━━━\u001b[0m\u001b[37m\u001b[0m \u001b[1m0s\u001b[0m 1ms/step - loss: 1.7691\n"
     ]
    },
    {
     "data": {
      "text/plain": [
       "1.7771929502487183"
      ]
     },
     "execution_count": 4,
     "metadata": {},
     "output_type": "execute_result"
    }
   ],
   "source": [
    "model = tf.keras.models.load_model(\"NN.keras\")\n",
    "model.evaluate(X_test, y_test_calipso)"
   ]
  },
  {
   "cell_type": "code",
   "execution_count": 5,
   "metadata": {},
   "outputs": [
    {
     "name": "stdout",
     "output_type": "stream",
     "text": [
      "\u001b[1m236/236\u001b[0m \u001b[32m━━━━━━━━━━━━━━━━━━━━\u001b[0m\u001b[37m\u001b[0m \u001b[1m0s\u001b[0m 1ms/step  \n"
     ]
    },
    {
     "data": {
      "text/plain": [
       "array([-3.6626358, -3.1149497, -4.3296943, ..., -4.184984 , -5.173458 ,\n",
       "       -2.7732334], dtype=float32)"
      ]
     },
     "execution_count": 5,
     "metadata": {},
     "output_type": "execute_result"
    }
   ],
   "source": [
    "pred = model.predict(X_test).flatten()\n",
    "pred"
   ]
  },
  {
   "cell_type": "code",
   "execution_count": 6,
   "metadata": {},
   "outputs": [
    {
     "name": "stdout",
     "output_type": "stream",
     "text": [
      "(7548,)\n",
      "(7548,)\n"
     ]
    }
   ],
   "source": [
    "print(pred.shape)\n",
    "print(y_test_calipso.shape)"
   ]
  },
  {
   "cell_type": "code",
   "execution_count": 7,
   "metadata": {},
   "outputs": [
    {
     "name": "stdout",
     "output_type": "stream",
     "text": [
      "\u001b[1m944/944\u001b[0m \u001b[32m━━━━━━━━━━━━━━━━━━━━\u001b[0m\u001b[37m\u001b[0m \u001b[1m1s\u001b[0m 905us/step\n"
     ]
    },
    {
     "data": {
      "image/png": "[encoded data removed]",
      "text/plain": [
       "<Figure size 500x500 with 1 Axes>"
      ]
     },
     "metadata": {},
     "output_type": "display_data"
    },
    {
     "data": {
      "image/png": "[encoded data removed]",
      "text/plain": [
       "<Figure size 500x500 with 1 Axes>"
      ]
     },
     "metadata": {},
     "output_type": "display_data"
    }
   ],
   "source": [
    "def plot_scatter(\n",
    "    X,\n",
    "    Y,\n",
    "    dataset_name,\n",
    "    feature_name,\n",
    "    x_label=None,\n",
    "    y_label=None,\n",
    "    x_log=True,\n",
    "    y_log=True,\n",
    "):\n",
    "    import matplotlib.pyplot as plt\n",
    "    \n",
    "    nan_mask = np.logical_or(np.isnan(X), np.isnan(Y))\n",
    "    X = X[~nan_mask]\n",
    "    Y = Y[~nan_mask]\n",
    "\n",
    "    if x_log:\n",
    "        X = np.exp(X)\n",
    "    if y_log:\n",
    "        Y = np.exp(Y)\n",
    "    # print(Y.min(), Y.max())\n",
    "\n",
    "    if x_label is None:\n",
    "        x_label = f\"CALIPSO {feature_name}\"\n",
    "    if y_label is None:\n",
    "        y_label = f\"OCO ML Predict {feature_name}\"\n",
    "\n",
    "    LIMIT = 3.0\n",
    "    plt.figure(figsize=(5, 5))\n",
    "    plt.scatter(X, Y, s=1, c=\"b\", alpha=0.1)\n",
    "    plt.plot([0, 10], [0, 10], ls=\"--\", c=\".3\")\n",
    "    # calc and plot correlation coefficient\n",
    "    mask = np.logical_and(X > 0, Y > 0)\n",
    "    corr = np.corrcoef(X[mask], Y[mask])[0, 1]\n",
    "    plt.text(0.05, 0.95, f\"Corr: {corr:.6f}\", transform=plt.gca().transAxes)\n",
    "\n",
    "    lim = min(LIMIT, max(X.max(), Y.max()))\n",
    "    plt.xlim(0, min(LIMIT, lim))\n",
    "    plt.ylim(0, min(LIMIT, lim))\n",
    "    plt.xlabel(x_label)\n",
    "    plt.ylabel(y_label)\n",
    "\n",
    "    plt.tight_layout()\n",
    "    plt.savefig(f\"{dataset_name}_{feature_name}.png\")\n",
    "\n",
    "plot_scatter(y_test_calipso, pred, \"CALIPSO\", \"AOD\", x_label=\"CALIPSO_AOD\", y_label=\"OCO ML AOD\")\n",
    "\n",
    "train_pred = model.predict(X_train).flatten()\n",
    "\n",
    "plot_scatter(y_train_calipso, train_pred, \"CALIPSO_train\", \"AOD\")"
   ]
  }
 ],
 "metadata": {
  "kernelspec": {
   "display_name": "volcano",
   "language": "python",
   "name": "python3"
  },
  "language_info": {
   "codemirror_mode": {
    "name": "ipython",
    "version": 3
   },
   "file_extension": ".py",
   "mimetype": "text/x-python",
   "name": "python",
   "nbconvert_exporter": "python",
   "pygments_lexer": "ipython3",
   "version": "3.9.19"
  }
 },
 "nbformat": 4,
 "nbformat_minor": 2
}
